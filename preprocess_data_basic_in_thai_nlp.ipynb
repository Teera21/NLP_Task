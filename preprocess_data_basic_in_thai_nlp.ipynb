{
  "nbformat": 4,
  "nbformat_minor": 0,
  "metadata": {
    "colab": {
      "name": "preprocess_data_basic_in_thai_nlp.ipynb",
      "provenance": []
    },
    "kernelspec": {
      "name": "python3",
      "display_name": "Python 3"
    },
    "language_info": {
      "name": "python"
    }
  },
  "cells": [
    {
      "cell_type": "code",
      "execution_count": 3,
      "metadata": {
        "colab": {
          "base_uri": "https://localhost:8080/",
          "height": 1000
        },
        "id": "ujO9s5DUKRH4",
        "outputId": "08b29338-d000-41c5-e3b5-921afd13e1cb"
      },
      "outputs": [
        {
          "output_type": "stream",
          "name": "stdout",
          "text": [
            "Collecting pythainlp[full]\n",
            "  Downloading pythainlp-3.0.5-py3-none-any.whl (11.5 MB)\n",
            "\u001b[K     |████████████████████████████████| 11.5 MB 5.2 MB/s \n",
            "\u001b[?25hRequirement already satisfied: requests>=2.22.0 in /usr/local/lib/python3.7/dist-packages (from pythainlp[full]) (2.23.0)\n",
            "Collecting tinydb>=3.0\n",
            "  Downloading tinydb-4.7.0-py3-none-any.whl (24 kB)\n",
            "Requirement already satisfied: fastai<2.0 in /usr/local/lib/python3.7/dist-packages (from pythainlp[full]) (1.0.61)\n",
            "Collecting transformers>=4.6.0\n",
            "  Downloading transformers-4.18.0-py3-none-any.whl (4.0 MB)\n",
            "\u001b[K     |████████████████████████████████| 4.0 MB 37.6 MB/s \n",
            "\u001b[?25hRequirement already satisfied: torch>=1.0.0 in /usr/local/lib/python3.7/dist-packages (from pythainlp[full]) (1.10.0+cu111)\n",
            "Collecting epitran>=1.1\n",
            "  Downloading epitran-1.17-py2.py3-none-any.whl (153 kB)\n",
            "\u001b[K     |████████████████████████████████| 153 kB 22.5 MB/s \n",
            "\u001b[?25hCollecting phunspell>=0.1.6\n",
            "  Downloading phunspell-0.1.6.tar.gz (47.5 MB)\n",
            "\u001b[K     |████████████████████████████████| 47.5 MB 75 kB/s \n",
            "\u001b[?25h  Installing build dependencies ... \u001b[?25l\u001b[?25hdone\n",
            "  Getting requirements to build wheel ... \u001b[?25l\u001b[?25hdone\n",
            "    Preparing wheel metadata ... \u001b[?25l\u001b[?25hdone\n",
            "Collecting symspellpy>=6.7.6\n",
            "  Downloading symspellpy-6.7.6-py3-none-any.whl (2.6 MB)\n",
            "\u001b[K     |████████████████████████████████| 2.6 MB 37.4 MB/s \n",
            "\u001b[?25hCollecting nltk>=3.3.*\n",
            "  Downloading nltk-3.7-py3-none-any.whl (1.5 MB)\n",
            "\u001b[K     |████████████████████████████████| 1.5 MB 42.8 MB/s \n",
            "\u001b[?25hCollecting pyicu>=2.3\n",
            "  Downloading PyICU-2.9.tar.gz (305 kB)\n",
            "\u001b[K     |████████████████████████████████| 305 kB 45.2 MB/s \n",
            "\u001b[?25h  Installing build dependencies ... \u001b[?25l\u001b[?25hdone\n",
            "  Getting requirements to build wheel ... \u001b[?25l\u001b[?25hdone\n",
            "    Preparing wheel metadata ... \u001b[?25l\u001b[?25hdone\n",
            "Collecting sacremoses>=0.0.41\n",
            "  Downloading sacremoses-0.0.49-py3-none-any.whl (895 kB)\n",
            "\u001b[K     |████████████████████████████████| 895 kB 38.7 MB/s \n",
            "\u001b[?25hCollecting nlpo3>=1.2.2\n",
            "  Downloading nlpo3-1.2.2-cp37-cp37m-manylinux2014_x86_64.whl (1.5 MB)\n",
            "\u001b[K     |████████████████████████████████| 1.5 MB 45.5 MB/s \n",
            "\u001b[?25hCollecting oskut>=1.3\n",
            "  Downloading OSKut-1.3-py3-none-any.whl (44.2 MB)\n",
            "\u001b[K     |████████████████████████████████| 44.2 MB 1.3 MB/s \n",
            "\u001b[?25hCollecting PyYAML>=5.3.1\n",
            "  Downloading PyYAML-6.0-cp37-cp37m-manylinux_2_5_x86_64.manylinux1_x86_64.manylinux_2_12_x86_64.manylinux2010_x86_64.whl (596 kB)\n",
            "\u001b[K     |████████████████████████████████| 596 kB 41.5 MB/s \n",
            "\u001b[?25hCollecting attacut>=1.0.4\n",
            "  Downloading attacut-1.0.6-py3-none-any.whl (1.3 MB)\n",
            "\u001b[K     |████████████████████████████████| 1.3 MB 41.9 MB/s \n",
            "\u001b[?25hRequirement already satisfied: numpy>=1.16.1 in /usr/local/lib/python3.7/dist-packages (from pythainlp[full]) (1.21.5)\n",
            "Collecting tltk>=1.3.8\n",
            "  Downloading tltk-1.4.1.tar.gz (18.2 MB)\n",
            "\u001b[K     |████████████████████████████████| 18.2 MB 1.3 MB/s \n",
            "\u001b[?25hCollecting spylls>=0.1.5\n",
            "  Downloading spylls-0.1.7-py2.py3-none-any.whl (1.5 MB)\n",
            "\u001b[K     |████████████████████████████████| 1.5 MB 37.6 MB/s \n",
            "\u001b[?25hCollecting sefr-cut>=1.1\n",
            "  Downloading SEFR_CUT-1.1-py3-none-any.whl (8.7 MB)\n",
            "\u001b[K     |████████████████████████████████| 8.7 MB 25.2 MB/s \n",
            "\u001b[?25hCollecting fairseq>=0.10.0\n",
            "  Downloading fairseq-0.10.2-cp37-cp37m-manylinux1_x86_64.whl (1.7 MB)\n",
            "\u001b[K     |████████████████████████████████| 1.7 MB 37.8 MB/s \n",
            "\u001b[?25hCollecting emoji>=0.5.1\n",
            "  Downloading emoji-1.7.0.tar.gz (175 kB)\n",
            "\u001b[K     |████████████████████████████████| 175 kB 53.9 MB/s \n",
            "\u001b[?25hRequirement already satisfied: pandas>=0.24 in /usr/local/lib/python3.7/dist-packages (from pythainlp[full]) (1.3.5)\n",
            "Collecting ssg>=0.0.8\n",
            "  Downloading ssg-0.0.8-py3-none-any.whl (473 kB)\n",
            "\u001b[K     |████████████████████████████████| 473 kB 40.0 MB/s \n",
            "\u001b[?25hCollecting bpemb>=0.3.2\n",
            "  Downloading bpemb-0.3.3-py3-none-any.whl (19 kB)\n",
            "Collecting sentencepiece>=0.1.91\n",
            "  Downloading sentencepiece-0.1.96-cp37-cp37m-manylinux_2_17_x86_64.manylinux2014_x86_64.whl (1.2 MB)\n",
            "\u001b[K     |████████████████████████████████| 1.2 MB 36.5 MB/s \n",
            "\u001b[?25hCollecting gensim>=4.0.0\n",
            "  Downloading gensim-4.1.2-cp37-cp37m-manylinux_2_12_x86_64.manylinux2010_x86_64.whl (24.1 MB)\n",
            "\u001b[K     |████████████████████████████████| 24.1 MB 1.3 MB/s \n",
            "\u001b[?25hRequirement already satisfied: six>=1.12.0 in /usr/local/lib/python3.7/dist-packages (from attacut>=1.0.4->pythainlp[full]) (1.15.0)\n",
            "Requirement already satisfied: docopt>=0.6.2 in /usr/local/lib/python3.7/dist-packages (from attacut>=1.0.4->pythainlp[full]) (0.6.2)\n",
            "Collecting nptyping>=0.2.0\n",
            "  Downloading nptyping-2.0.0-py3-none-any.whl (19 kB)\n",
            "Collecting fire>=0.1.3\n",
            "  Downloading fire-0.4.0.tar.gz (87 kB)\n",
            "\u001b[K     |████████████████████████████████| 87 kB 6.1 MB/s \n",
            "\u001b[?25hRequirement already satisfied: tqdm in /usr/local/lib/python3.7/dist-packages (from bpemb>=0.3.2->pythainlp[full]) (4.64.0)\n",
            "Collecting panphon>=0.19\n",
            "  Downloading panphon-0.19.1-py2.py3-none-any.whl (73 kB)\n",
            "\u001b[K     |████████████████████████████████| 73 kB 1.8 MB/s \n",
            "\u001b[?25hRequirement already satisfied: setuptools in /usr/local/lib/python3.7/dist-packages (from epitran>=1.1->pythainlp[full]) (57.4.0)\n",
            "Requirement already satisfied: regex in /usr/local/lib/python3.7/dist-packages (from epitran>=1.1->pythainlp[full]) (2019.12.20)\n",
            "Collecting unicodecsv\n",
            "  Downloading unicodecsv-0.14.1.tar.gz (10 kB)\n",
            "Collecting marisa-trie\n",
            "  Downloading marisa_trie-0.7.7-cp37-cp37m-manylinux_2_5_x86_64.manylinux1_x86_64.manylinux_2_12_x86_64.manylinux2010_x86_64.whl (1.2 MB)\n",
            "\u001b[K     |████████████████████████████████| 1.2 MB 37.0 MB/s \n",
            "\u001b[?25hRequirement already satisfied: cffi in /usr/local/lib/python3.7/dist-packages (from fairseq>=0.10.0->pythainlp[full]) (1.15.0)\n",
            "Collecting dataclasses\n",
            "  Downloading dataclasses-0.6-py3-none-any.whl (14 kB)\n",
            "Requirement already satisfied: cython in /usr/local/lib/python3.7/dist-packages (from fairseq>=0.10.0->pythainlp[full]) (0.29.28)\n",
            "Collecting hydra-core\n",
            "  Downloading hydra_core-1.1.2-py3-none-any.whl (147 kB)\n",
            "\u001b[K     |████████████████████████████████| 147 kB 36.5 MB/s \n",
            "\u001b[?25hCollecting sacrebleu>=1.4.12\n",
            "  Downloading sacrebleu-2.0.0-py3-none-any.whl (90 kB)\n",
            "\u001b[K     |████████████████████████████████| 90 kB 7.9 MB/s \n",
            "\u001b[?25hRequirement already satisfied: bottleneck in /usr/local/lib/python3.7/dist-packages (from fastai<2.0->pythainlp[full]) (1.3.4)\n",
            "Requirement already satisfied: matplotlib in /usr/local/lib/python3.7/dist-packages (from fastai<2.0->pythainlp[full]) (3.2.2)\n",
            "Requirement already satisfied: torchvision in /usr/local/lib/python3.7/dist-packages (from fastai<2.0->pythainlp[full]) (0.11.1+cu111)\n",
            "Requirement already satisfied: beautifulsoup4 in /usr/local/lib/python3.7/dist-packages (from fastai<2.0->pythainlp[full]) (4.6.3)\n",
            "Requirement already satisfied: nvidia-ml-py3 in /usr/local/lib/python3.7/dist-packages (from fastai<2.0->pythainlp[full]) (7.352.0)\n",
            "Requirement already satisfied: fastprogress>=0.2.1 in /usr/local/lib/python3.7/dist-packages (from fastai<2.0->pythainlp[full]) (1.0.2)\n",
            "Requirement already satisfied: packaging in /usr/local/lib/python3.7/dist-packages (from fastai<2.0->pythainlp[full]) (21.3)\n",
            "Requirement already satisfied: Pillow in /usr/local/lib/python3.7/dist-packages (from fastai<2.0->pythainlp[full]) (7.1.2)\n",
            "Requirement already satisfied: scipy in /usr/local/lib/python3.7/dist-packages (from fastai<2.0->pythainlp[full]) (1.4.1)\n",
            "Requirement already satisfied: spacy>=2.0.18 in /usr/local/lib/python3.7/dist-packages (from fastai<2.0->pythainlp[full]) (2.2.4)\n",
            "Requirement already satisfied: numexpr in /usr/local/lib/python3.7/dist-packages (from fastai<2.0->pythainlp[full]) (2.8.1)\n",
            "Requirement already satisfied: termcolor in /usr/local/lib/python3.7/dist-packages (from fire>=0.1.3->attacut>=1.0.4->pythainlp[full]) (1.1.0)\n",
            "Requirement already satisfied: smart-open>=1.8.1 in /usr/local/lib/python3.7/dist-packages (from gensim>=4.0.0->pythainlp[full]) (5.2.1)\n",
            "Requirement already satisfied: joblib in /usr/local/lib/python3.7/dist-packages (from nltk>=3.3.*->pythainlp[full]) (1.1.0)\n",
            "Collecting regex\n",
            "  Downloading regex-2022.3.15-cp37-cp37m-manylinux_2_17_x86_64.manylinux2014_x86_64.whl (749 kB)\n",
            "\u001b[K     |████████████████████████████████| 749 kB 46.2 MB/s \n",
            "\u001b[?25hRequirement already satisfied: click in /usr/local/lib/python3.7/dist-packages (from nltk>=3.3.*->pythainlp[full]) (7.1.2)\n",
            "Requirement already satisfied: typing-extensions in /usr/local/lib/python3.7/dist-packages (from nptyping>=0.2.0->attacut>=1.0.4->pythainlp[full]) (4.1.1)\n",
            "Collecting pyahocorasick<=1.4.0\n",
            "  Downloading pyahocorasick-1.4.0.tar.gz (312 kB)\n",
            "\u001b[K     |████████████████████████████████| 312 kB 52.6 MB/s \n",
            "\u001b[?25hRequirement already satisfied: tensorflow>=2.0.0 in /usr/local/lib/python3.7/dist-packages (from oskut>=1.3->pythainlp[full]) (2.8.0)\n",
            "Requirement already satisfied: scikit-learn in /usr/local/lib/python3.7/dist-packages (from oskut>=1.3->pythainlp[full]) (1.0.2)\n",
            "Requirement already satisfied: python-dateutil>=2.7.3 in /usr/local/lib/python3.7/dist-packages (from pandas>=0.24->pythainlp[full]) (2.8.2)\n",
            "Requirement already satisfied: pytz>=2017.3 in /usr/local/lib/python3.7/dist-packages (from pandas>=0.24->pythainlp[full]) (2018.9)\n",
            "Requirement already satisfied: editdistance in /usr/local/lib/python3.7/dist-packages (from panphon>=0.19->epitran>=1.1->pythainlp[full]) (0.5.3)\n",
            "Collecting munkres\n",
            "  Downloading munkres-1.1.4-py2.py3-none-any.whl (7.0 kB)\n",
            "Requirement already satisfied: chardet<4,>=3.0.2 in /usr/local/lib/python3.7/dist-packages (from requests>=2.22.0->pythainlp[full]) (3.0.4)\n",
            "Requirement already satisfied: idna<3,>=2.5 in /usr/local/lib/python3.7/dist-packages (from requests>=2.22.0->pythainlp[full]) (2.10)\n",
            "Requirement already satisfied: certifi>=2017.4.17 in /usr/local/lib/python3.7/dist-packages (from requests>=2.22.0->pythainlp[full]) (2021.10.8)\n",
            "Requirement already satisfied: urllib3!=1.25.0,!=1.25.1,<1.26,>=1.21.1 in /usr/local/lib/python3.7/dist-packages (from requests>=2.22.0->pythainlp[full]) (1.24.3)\n",
            "Collecting colorama\n",
            "  Downloading colorama-0.4.4-py2.py3-none-any.whl (16 kB)\n",
            "Collecting portalocker\n",
            "  Downloading portalocker-2.4.0-py2.py3-none-any.whl (16 kB)\n",
            "Requirement already satisfied: tabulate>=0.8.9 in /usr/local/lib/python3.7/dist-packages (from sacrebleu>=1.4.12->fairseq>=0.10.0->pythainlp[full]) (0.8.9)\n",
            "Collecting python-crfsuite\n",
            "  Downloading python_crfsuite-0.9.8-cp37-cp37m-manylinux_2_17_x86_64.manylinux2014_x86_64.whl (965 kB)\n",
            "\u001b[K     |████████████████████████████████| 965 kB 37.7 MB/s \n",
            "\u001b[?25hRequirement already satisfied: cymem<2.1.0,>=2.0.2 in /usr/local/lib/python3.7/dist-packages (from spacy>=2.0.18->fastai<2.0->pythainlp[full]) (2.0.6)\n",
            "Requirement already satisfied: srsly<1.1.0,>=1.0.2 in /usr/local/lib/python3.7/dist-packages (from spacy>=2.0.18->fastai<2.0->pythainlp[full]) (1.0.5)\n",
            "Requirement already satisfied: thinc==7.4.0 in /usr/local/lib/python3.7/dist-packages (from spacy>=2.0.18->fastai<2.0->pythainlp[full]) (7.4.0)\n",
            "Requirement already satisfied: blis<0.5.0,>=0.4.0 in /usr/local/lib/python3.7/dist-packages (from spacy>=2.0.18->fastai<2.0->pythainlp[full]) (0.4.1)\n",
            "Requirement already satisfied: catalogue<1.1.0,>=0.0.7 in /usr/local/lib/python3.7/dist-packages (from spacy>=2.0.18->fastai<2.0->pythainlp[full]) (1.0.0)\n",
            "Requirement already satisfied: murmurhash<1.1.0,>=0.28.0 in /usr/local/lib/python3.7/dist-packages (from spacy>=2.0.18->fastai<2.0->pythainlp[full]) (1.0.6)\n",
            "Requirement already satisfied: wasabi<1.1.0,>=0.4.0 in /usr/local/lib/python3.7/dist-packages (from spacy>=2.0.18->fastai<2.0->pythainlp[full]) (0.9.1)\n",
            "Requirement already satisfied: plac<1.2.0,>=0.9.6 in /usr/local/lib/python3.7/dist-packages (from spacy>=2.0.18->fastai<2.0->pythainlp[full]) (1.1.3)\n",
            "Requirement already satisfied: preshed<3.1.0,>=3.0.2 in /usr/local/lib/python3.7/dist-packages (from spacy>=2.0.18->fastai<2.0->pythainlp[full]) (3.0.6)\n",
            "Requirement already satisfied: importlib-metadata>=0.20 in /usr/local/lib/python3.7/dist-packages (from catalogue<1.1.0,>=0.0.7->spacy>=2.0.18->fastai<2.0->pythainlp[full]) (4.11.3)\n",
            "Requirement already satisfied: zipp>=0.5 in /usr/local/lib/python3.7/dist-packages (from importlib-metadata>=0.20->catalogue<1.1.0,>=0.0.7->spacy>=2.0.18->fastai<2.0->pythainlp[full]) (3.8.0)\n",
            "Collecting editdistpy>=0.1.3\n",
            "  Downloading editdistpy-0.1.3-cp37-cp37m-manylinux_2_5_x86_64.manylinux1_x86_64.manylinux_2_17_x86_64.manylinux2014_x86_64.whl (125 kB)\n",
            "\u001b[K     |████████████████████████████████| 125 kB 45.3 MB/s \n",
            "\u001b[?25hRequirement already satisfied: libclang>=9.0.1 in /usr/local/lib/python3.7/dist-packages (from tensorflow>=2.0.0->oskut>=1.3->pythainlp[full]) (13.0.0)\n",
            "Requirement already satisfied: wrapt>=1.11.0 in /usr/local/lib/python3.7/dist-packages (from tensorflow>=2.0.0->oskut>=1.3->pythainlp[full]) (1.14.0)\n",
            "Requirement already satisfied: flatbuffers>=1.12 in /usr/local/lib/python3.7/dist-packages (from tensorflow>=2.0.0->oskut>=1.3->pythainlp[full]) (2.0)\n",
            "Requirement already satisfied: protobuf>=3.9.2 in /usr/local/lib/python3.7/dist-packages (from tensorflow>=2.0.0->oskut>=1.3->pythainlp[full]) (3.17.3)\n",
            "Requirement already satisfied: gast>=0.2.1 in /usr/local/lib/python3.7/dist-packages (from tensorflow>=2.0.0->oskut>=1.3->pythainlp[full]) (0.5.3)\n",
            "Requirement already satisfied: absl-py>=0.4.0 in /usr/local/lib/python3.7/dist-packages (from tensorflow>=2.0.0->oskut>=1.3->pythainlp[full]) (1.0.0)\n",
            "Requirement already satisfied: grpcio<2.0,>=1.24.3 in /usr/local/lib/python3.7/dist-packages (from tensorflow>=2.0.0->oskut>=1.3->pythainlp[full]) (1.44.0)\n",
            "Requirement already satisfied: keras-preprocessing>=1.1.1 in /usr/local/lib/python3.7/dist-packages (from tensorflow>=2.0.0->oskut>=1.3->pythainlp[full]) (1.1.2)\n",
            "Requirement already satisfied: opt-einsum>=2.3.2 in /usr/local/lib/python3.7/dist-packages (from tensorflow>=2.0.0->oskut>=1.3->pythainlp[full]) (3.3.0)\n",
            "Requirement already satisfied: keras<2.9,>=2.8.0rc0 in /usr/local/lib/python3.7/dist-packages (from tensorflow>=2.0.0->oskut>=1.3->pythainlp[full]) (2.8.0)\n",
            "Requirement already satisfied: tensorflow-io-gcs-filesystem>=0.23.1 in /usr/local/lib/python3.7/dist-packages (from tensorflow>=2.0.0->oskut>=1.3->pythainlp[full]) (0.24.0)\n",
            "Collecting tf-estimator-nightly==2.8.0.dev2021122109\n",
            "  Downloading tf_estimator_nightly-2.8.0.dev2021122109-py2.py3-none-any.whl (462 kB)\n",
            "\u001b[K     |████████████████████████████████| 462 kB 45.9 MB/s \n",
            "\u001b[?25hRequirement already satisfied: h5py>=2.9.0 in /usr/local/lib/python3.7/dist-packages (from tensorflow>=2.0.0->oskut>=1.3->pythainlp[full]) (3.1.0)\n",
            "Requirement already satisfied: google-pasta>=0.1.1 in /usr/local/lib/python3.7/dist-packages (from tensorflow>=2.0.0->oskut>=1.3->pythainlp[full]) (0.2.0)\n",
            "Requirement already satisfied: astunparse>=1.6.0 in /usr/local/lib/python3.7/dist-packages (from tensorflow>=2.0.0->oskut>=1.3->pythainlp[full]) (1.6.3)\n",
            "Requirement already satisfied: tensorboard<2.9,>=2.8 in /usr/local/lib/python3.7/dist-packages (from tensorflow>=2.0.0->oskut>=1.3->pythainlp[full]) (2.8.0)\n",
            "Requirement already satisfied: wheel<1.0,>=0.23.0 in /usr/local/lib/python3.7/dist-packages (from astunparse>=1.6.0->tensorflow>=2.0.0->oskut>=1.3->pythainlp[full]) (0.37.1)\n",
            "Requirement already satisfied: cached-property in /usr/local/lib/python3.7/dist-packages (from h5py>=2.9.0->tensorflow>=2.0.0->oskut>=1.3->pythainlp[full]) (1.5.2)\n",
            "Requirement already satisfied: werkzeug>=0.11.15 in /usr/local/lib/python3.7/dist-packages (from tensorboard<2.9,>=2.8->tensorflow>=2.0.0->oskut>=1.3->pythainlp[full]) (1.0.1)\n",
            "Requirement already satisfied: markdown>=2.6.8 in /usr/local/lib/python3.7/dist-packages (from tensorboard<2.9,>=2.8->tensorflow>=2.0.0->oskut>=1.3->pythainlp[full]) (3.3.6)\n",
            "Requirement already satisfied: google-auth-oauthlib<0.5,>=0.4.1 in /usr/local/lib/python3.7/dist-packages (from tensorboard<2.9,>=2.8->tensorflow>=2.0.0->oskut>=1.3->pythainlp[full]) (0.4.6)\n",
            "Requirement already satisfied: tensorboard-plugin-wit>=1.6.0 in /usr/local/lib/python3.7/dist-packages (from tensorboard<2.9,>=2.8->tensorflow>=2.0.0->oskut>=1.3->pythainlp[full]) (1.8.1)\n",
            "Requirement already satisfied: google-auth<3,>=1.6.3 in /usr/local/lib/python3.7/dist-packages (from tensorboard<2.9,>=2.8->tensorflow>=2.0.0->oskut>=1.3->pythainlp[full]) (1.35.0)\n",
            "Requirement already satisfied: tensorboard-data-server<0.7.0,>=0.6.0 in /usr/local/lib/python3.7/dist-packages (from tensorboard<2.9,>=2.8->tensorflow>=2.0.0->oskut>=1.3->pythainlp[full]) (0.6.1)\n",
            "Requirement already satisfied: rsa<5,>=3.1.4 in /usr/local/lib/python3.7/dist-packages (from google-auth<3,>=1.6.3->tensorboard<2.9,>=2.8->tensorflow>=2.0.0->oskut>=1.3->pythainlp[full]) (4.8)\n",
            "Requirement already satisfied: cachetools<5.0,>=2.0.0 in /usr/local/lib/python3.7/dist-packages (from google-auth<3,>=1.6.3->tensorboard<2.9,>=2.8->tensorflow>=2.0.0->oskut>=1.3->pythainlp[full]) (4.2.4)\n",
            "Requirement already satisfied: pyasn1-modules>=0.2.1 in /usr/local/lib/python3.7/dist-packages (from google-auth<3,>=1.6.3->tensorboard<2.9,>=2.8->tensorflow>=2.0.0->oskut>=1.3->pythainlp[full]) (0.2.8)\n",
            "Requirement already satisfied: requests-oauthlib>=0.7.0 in /usr/local/lib/python3.7/dist-packages (from google-auth-oauthlib<0.5,>=0.4.1->tensorboard<2.9,>=2.8->tensorflow>=2.0.0->oskut>=1.3->pythainlp[full]) (1.3.1)\n",
            "Requirement already satisfied: pyasn1<0.5.0,>=0.4.6 in /usr/local/lib/python3.7/dist-packages (from pyasn1-modules>=0.2.1->google-auth<3,>=1.6.3->tensorboard<2.9,>=2.8->tensorflow>=2.0.0->oskut>=1.3->pythainlp[full]) (0.4.8)\n",
            "Requirement already satisfied: oauthlib>=3.0.0 in /usr/local/lib/python3.7/dist-packages (from requests-oauthlib>=0.7.0->google-auth-oauthlib<0.5,>=0.4.1->tensorboard<2.9,>=2.8->tensorflow>=2.0.0->oskut>=1.3->pythainlp[full]) (3.2.0)\n",
            "Requirement already satisfied: sklearn in /usr/local/lib/python3.7/dist-packages (from tltk>=1.3.8->pythainlp[full]) (0.0)\n",
            "Collecting sklearn_crfsuite\n",
            "  Downloading sklearn_crfsuite-0.3.6-py2.py3-none-any.whl (12 kB)\n",
            "Collecting tokenizers!=0.11.3,<0.13,>=0.11.1\n",
            "  Downloading tokenizers-0.12.1-cp37-cp37m-manylinux_2_12_x86_64.manylinux2010_x86_64.whl (6.6 MB)\n",
            "\u001b[K     |████████████████████████████████| 6.6 MB 33.4 MB/s \n",
            "\u001b[?25hRequirement already satisfied: filelock in /usr/local/lib/python3.7/dist-packages (from transformers>=4.6.0->pythainlp[full]) (3.6.0)\n",
            "Collecting huggingface-hub<1.0,>=0.1.0\n",
            "  Downloading huggingface_hub-0.5.1-py3-none-any.whl (77 kB)\n",
            "\u001b[K     |████████████████████████████████| 77 kB 5.7 MB/s \n",
            "\u001b[?25hRequirement already satisfied: pyparsing!=3.0.5,>=2.0.2 in /usr/local/lib/python3.7/dist-packages (from packaging->fastai<2.0->pythainlp[full]) (3.0.8)\n",
            "Requirement already satisfied: pycparser in /usr/local/lib/python3.7/dist-packages (from cffi->fairseq>=0.10.0->pythainlp[full]) (2.21)\n",
            "Collecting importlib-resources<5.3\n",
            "  Downloading importlib_resources-5.2.3-py3-none-any.whl (27 kB)\n",
            "Collecting antlr4-python3-runtime==4.8\n",
            "  Downloading antlr4-python3-runtime-4.8.tar.gz (112 kB)\n",
            "\u001b[K     |████████████████████████████████| 112 kB 43.0 MB/s \n",
            "\u001b[?25hCollecting omegaconf==2.1.*\n",
            "  Downloading omegaconf-2.1.2-py3-none-any.whl (74 kB)\n",
            "\u001b[K     |████████████████████████████████| 74 kB 2.8 MB/s \n",
            "\u001b[?25hRequirement already satisfied: cycler>=0.10 in /usr/local/lib/python3.7/dist-packages (from matplotlib->fastai<2.0->pythainlp[full]) (0.11.0)\n",
            "Requirement already satisfied: kiwisolver>=1.0.1 in /usr/local/lib/python3.7/dist-packages (from matplotlib->fastai<2.0->pythainlp[full]) (1.4.2)\n",
            "Requirement already satisfied: threadpoolctl>=2.0.0 in /usr/local/lib/python3.7/dist-packages (from scikit-learn->oskut>=1.3->pythainlp[full]) (3.1.0)\n",
            "Building wheels for collected packages: emoji, fire, phunspell, pyahocorasick, pyicu, tltk, antlr4-python3-runtime, unicodecsv\n",
            "  Building wheel for emoji (setup.py) ... \u001b[?25l\u001b[?25hdone\n",
            "  Created wheel for emoji: filename=emoji-1.7.0-py3-none-any.whl size=171046 sha256=603fe96999e6330076adcfcd6a287115c5ef1126d69a1b92cb2b1a946c8c7a6e\n",
            "  Stored in directory: /root/.cache/pip/wheels/8a/4e/b6/57b01db010d17ef6ea9b40300af725ef3e210cb1acfb7ac8b6\n",
            "  Building wheel for fire (setup.py) ... \u001b[?25l\u001b[?25hdone\n",
            "  Created wheel for fire: filename=fire-0.4.0-py2.py3-none-any.whl size=115942 sha256=cc8b04f1c458a20b1de7354f62e720822050d95aa37eb53e8583e405fc1e0f0d\n",
            "  Stored in directory: /root/.cache/pip/wheels/8a/67/fb/2e8a12fa16661b9d5af1f654bd199366799740a85c64981226\n",
            "  Building wheel for phunspell (PEP 517) ... \u001b[?25l\u001b[?25hdone\n",
            "  Created wheel for phunspell: filename=phunspell-0.1.6-py3-none-any.whl size=47556213 sha256=c70e0131057509d3b19d188e66e796feb5d1e3c04d31d1aa8bf6b70728727ca3\n",
            "  Stored in directory: /root/.cache/pip/wheels/7d/6d/c8/bc93083000bf09d6040f4fba9bcdd0e70e7a1815dee3dadd7c\n",
            "  Building wheel for pyahocorasick (setup.py) ... \u001b[?25l\u001b[?25hdone\n",
            "  Created wheel for pyahocorasick: filename=pyahocorasick-1.4.0-cp37-cp37m-linux_x86_64.whl size=82579 sha256=7021dc7d751b098a1f55ab24411988d0da476a1e8066bffc10b3e4843ee97423\n",
            "  Stored in directory: /root/.cache/pip/wheels/9b/6b/f7/62dc8caf183b125107209c014e78c340a0b4b7b392c23c2db4\n",
            "  Building wheel for pyicu (PEP 517) ... \u001b[?25l\u001b[?25hdone\n",
            "  Created wheel for pyicu: filename=PyICU-2.9-cp37-cp37m-linux_x86_64.whl size=1375675 sha256=7215be85e49860c7abd90d31d6e722fd89646ae9c3952dd40fc475099e40e993\n",
            "  Stored in directory: /root/.cache/pip/wheels/28/88/93/6c1b06361e4cbd4e7f793fb456729f69798f9aa3fc2a791cd7\n",
            "  Building wheel for tltk (setup.py) ... \u001b[?25l\u001b[?25hdone\n",
            "  Created wheel for tltk: filename=tltk-1.4.1-py3-none-any.whl size=18364041 sha256=a18109faa3171e528bc64164ad34c713f20c60c3453c6495c6e26bf61ef36e47\n",
            "  Stored in directory: /root/.cache/pip/wheels/a2/e5/9d/3caddd70f32e8356bab73641c40aa4b2b1dc408a80e637de31\n",
            "  Building wheel for antlr4-python3-runtime (setup.py) ... \u001b[?25l\u001b[?25hdone\n",
            "  Created wheel for antlr4-python3-runtime: filename=antlr4_python3_runtime-4.8-py3-none-any.whl size=141230 sha256=b846247763a22f37b062f53dd8a52da62e5e7fd1d1ff5ec1105c301edbc66ee3\n",
            "  Stored in directory: /root/.cache/pip/wheels/ca/33/b7/336836125fc9bb4ceaa4376d8abca10ca8bc84ddc824baea6c\n",
            "  Building wheel for unicodecsv (setup.py) ... \u001b[?25l\u001b[?25hdone\n",
            "  Created wheel for unicodecsv: filename=unicodecsv-0.14.1-py3-none-any.whl size=10768 sha256=64d421481503a5e073c4127e2951c8fbc0094e2192efc607374d366aa2982371\n",
            "  Stored in directory: /root/.cache/pip/wheels/1a/f4/8a/a5024fb77b32ed369e5c409081e5f00fbe3b92fdad653f6e69\n",
            "Successfully built emoji fire phunspell pyahocorasick pyicu tltk antlr4-python3-runtime unicodecsv\n",
            "Installing collected packages: PyYAML, antlr4-python3-runtime, unicodecsv, tf-estimator-nightly, regex, python-crfsuite, portalocker, omegaconf, munkres, importlib-resources, fire, colorama, tokenizers, tinydb, ssg, spylls, sklearn-crfsuite, sentencepiece, sacremoses, sacrebleu, pyahocorasick, panphon, nptyping, nltk, marisa-trie, hydra-core, huggingface-hub, gensim, editdistpy, dataclasses, transformers, tltk, symspellpy, sefr-cut, pythainlp, pyicu, phunspell, oskut, nlpo3, fairseq, epitran, emoji, bpemb, attacut\n",
            "  Attempting uninstall: PyYAML\n",
            "    Found existing installation: PyYAML 3.13\n",
            "    Uninstalling PyYAML-3.13:\n",
            "      Successfully uninstalled PyYAML-3.13\n",
            "  Attempting uninstall: regex\n",
            "    Found existing installation: regex 2019.12.20\n",
            "    Uninstalling regex-2019.12.20:\n",
            "      Successfully uninstalled regex-2019.12.20\n",
            "  Attempting uninstall: importlib-resources\n",
            "    Found existing installation: importlib-resources 5.6.0\n",
            "    Uninstalling importlib-resources-5.6.0:\n",
            "      Successfully uninstalled importlib-resources-5.6.0\n",
            "  Attempting uninstall: nltk\n",
            "    Found existing installation: nltk 3.2.5\n",
            "    Uninstalling nltk-3.2.5:\n",
            "      Successfully uninstalled nltk-3.2.5\n",
            "  Attempting uninstall: gensim\n",
            "    Found existing installation: gensim 3.6.0\n",
            "    Uninstalling gensim-3.6.0:\n",
            "      Successfully uninstalled gensim-3.6.0\n",
            "Successfully installed PyYAML-6.0 antlr4-python3-runtime-4.8 attacut-1.0.6 bpemb-0.3.3 colorama-0.4.4 dataclasses-0.6 editdistpy-0.1.3 emoji-1.7.0 epitran-1.17 fairseq-0.10.2 fire-0.4.0 gensim-4.1.2 huggingface-hub-0.5.1 hydra-core-1.1.2 importlib-resources-5.2.3 marisa-trie-0.7.7 munkres-1.1.4 nlpo3-1.2.2 nltk-3.7 nptyping-2.0.0 omegaconf-2.1.2 oskut-1.3 panphon-0.19.1 phunspell-0.1.6 portalocker-2.4.0 pyahocorasick-1.4.0 pyicu-2.9 pythainlp-3.0.5 python-crfsuite-0.9.8 regex-2022.3.15 sacrebleu-2.0.0 sacremoses-0.0.49 sefr-cut-1.1 sentencepiece-0.1.96 sklearn-crfsuite-0.3.6 spylls-0.1.7 ssg-0.0.8 symspellpy-6.7.6 tf-estimator-nightly-2.8.0.dev2021122109 tinydb-4.7.0 tltk-1.4.1 tokenizers-0.12.1 transformers-4.18.0 unicodecsv-0.14.1\n"
          ]
        },
        {
          "output_type": "display_data",
          "data": {
            "application/vnd.colab-display-data+json": {
              "pip_warning": {
                "packages": [
                  "pydevd_plugins"
                ]
              }
            }
          },
          "metadata": {}
        },
        {
          "output_type": "stream",
          "name": "stdout",
          "text": [
            "Requirement already satisfied: pandas in /usr/local/lib/python3.7/dist-packages (1.3.5)\n",
            "Requirement already satisfied: pytz>=2017.3 in /usr/local/lib/python3.7/dist-packages (from pandas) (2018.9)\n",
            "Requirement already satisfied: python-dateutil>=2.7.3 in /usr/local/lib/python3.7/dist-packages (from pandas) (2.8.2)\n",
            "Requirement already satisfied: numpy>=1.17.3 in /usr/local/lib/python3.7/dist-packages (from pandas) (1.21.5)\n",
            "Requirement already satisfied: six>=1.5 in /usr/local/lib/python3.7/dist-packages (from python-dateutil>=2.7.3->pandas) (1.15.0)\n",
            "Requirement already satisfied: epitran in /usr/local/lib/python3.7/dist-packages (1.17)\n",
            "Requirement already satisfied: regex in /usr/local/lib/python3.7/dist-packages (from epitran) (2022.3.15)\n",
            "Requirement already satisfied: panphon>=0.19 in /usr/local/lib/python3.7/dist-packages (from epitran) (0.19.1)\n",
            "Requirement already satisfied: unicodecsv in /usr/local/lib/python3.7/dist-packages (from epitran) (0.14.1)\n",
            "Requirement already satisfied: requests in /usr/local/lib/python3.7/dist-packages (from epitran) (2.23.0)\n",
            "Requirement already satisfied: setuptools in /usr/local/lib/python3.7/dist-packages (from epitran) (57.4.0)\n",
            "Requirement already satisfied: marisa-trie in /usr/local/lib/python3.7/dist-packages (from epitran) (0.7.7)\n",
            "Requirement already satisfied: editdistance in /usr/local/lib/python3.7/dist-packages (from panphon>=0.19->epitran) (0.5.3)\n",
            "Requirement already satisfied: munkres in /usr/local/lib/python3.7/dist-packages (from panphon>=0.19->epitran) (1.1.4)\n",
            "Requirement already satisfied: numpy>=1.20.2 in /usr/local/lib/python3.7/dist-packages (from panphon>=0.19->epitran) (1.21.5)\n",
            "Requirement already satisfied: PyYAML in /usr/local/lib/python3.7/dist-packages (from panphon>=0.19->epitran) (6.0)\n",
            "Requirement already satisfied: certifi>=2017.4.17 in /usr/local/lib/python3.7/dist-packages (from requests->epitran) (2021.10.8)\n",
            "Requirement already satisfied: idna<3,>=2.5 in /usr/local/lib/python3.7/dist-packages (from requests->epitran) (2.10)\n",
            "Requirement already satisfied: chardet<4,>=3.0.2 in /usr/local/lib/python3.7/dist-packages (from requests->epitran) (3.0.4)\n",
            "Requirement already satisfied: urllib3!=1.25.0,!=1.25.1,<1.26,>=1.21.1 in /usr/local/lib/python3.7/dist-packages (from requests->epitran) (1.24.3)\n",
            "Requirement already satisfied: sklearn_crfsuite in /usr/local/lib/python3.7/dist-packages (0.3.6)\n",
            "Requirement already satisfied: python-crfsuite>=0.8.3 in /usr/local/lib/python3.7/dist-packages (from sklearn_crfsuite) (0.9.8)\n",
            "Requirement already satisfied: tabulate in /usr/local/lib/python3.7/dist-packages (from sklearn_crfsuite) (0.8.9)\n",
            "Requirement already satisfied: tqdm>=2.0 in /usr/local/lib/python3.7/dist-packages (from sklearn_crfsuite) (4.64.0)\n",
            "Requirement already satisfied: six in /usr/local/lib/python3.7/dist-packages (from sklearn_crfsuite) (1.15.0)\n",
            "Requirement already satisfied: tensorflow in /usr/local/lib/python3.7/dist-packages (2.8.0)\n",
            "Collecting deepcut\n",
            "  Downloading deepcut-0.7.0.0-py3-none-any.whl (2.0 MB)\n",
            "\u001b[K     |████████████████████████████████| 2.0 MB 5.3 MB/s \n",
            "\u001b[?25hRequirement already satisfied: absl-py>=0.4.0 in /usr/local/lib/python3.7/dist-packages (from tensorflow) (1.0.0)\n",
            "Requirement already satisfied: numpy>=1.20 in /usr/local/lib/python3.7/dist-packages (from tensorflow) (1.21.5)\n",
            "Requirement already satisfied: libclang>=9.0.1 in /usr/local/lib/python3.7/dist-packages (from tensorflow) (13.0.0)\n",
            "Requirement already satisfied: typing-extensions>=3.6.6 in /usr/local/lib/python3.7/dist-packages (from tensorflow) (4.1.1)\n",
            "Requirement already satisfied: termcolor>=1.1.0 in /usr/local/lib/python3.7/dist-packages (from tensorflow) (1.1.0)\n",
            "Requirement already satisfied: protobuf>=3.9.2 in /usr/local/lib/python3.7/dist-packages (from tensorflow) (3.17.3)\n",
            "Requirement already satisfied: six>=1.12.0 in /usr/local/lib/python3.7/dist-packages (from tensorflow) (1.15.0)\n",
            "Requirement already satisfied: tensorflow-io-gcs-filesystem>=0.23.1 in /usr/local/lib/python3.7/dist-packages (from tensorflow) (0.24.0)\n",
            "Requirement already satisfied: tf-estimator-nightly==2.8.0.dev2021122109 in /usr/local/lib/python3.7/dist-packages (from tensorflow) (2.8.0.dev2021122109)\n",
            "Requirement already satisfied: h5py>=2.9.0 in /usr/local/lib/python3.7/dist-packages (from tensorflow) (3.1.0)\n",
            "Requirement already satisfied: grpcio<2.0,>=1.24.3 in /usr/local/lib/python3.7/dist-packages (from tensorflow) (1.44.0)\n",
            "Requirement already satisfied: keras-preprocessing>=1.1.1 in /usr/local/lib/python3.7/dist-packages (from tensorflow) (1.1.2)\n",
            "Requirement already satisfied: google-pasta>=0.1.1 in /usr/local/lib/python3.7/dist-packages (from tensorflow) (0.2.0)\n",
            "Requirement already satisfied: opt-einsum>=2.3.2 in /usr/local/lib/python3.7/dist-packages (from tensorflow) (3.3.0)\n",
            "Requirement already satisfied: keras<2.9,>=2.8.0rc0 in /usr/local/lib/python3.7/dist-packages (from tensorflow) (2.8.0)\n",
            "Requirement already satisfied: gast>=0.2.1 in /usr/local/lib/python3.7/dist-packages (from tensorflow) (0.5.3)\n",
            "Requirement already satisfied: setuptools in /usr/local/lib/python3.7/dist-packages (from tensorflow) (57.4.0)\n",
            "Requirement already satisfied: astunparse>=1.6.0 in /usr/local/lib/python3.7/dist-packages (from tensorflow) (1.6.3)\n",
            "Requirement already satisfied: tensorboard<2.9,>=2.8 in /usr/local/lib/python3.7/dist-packages (from tensorflow) (2.8.0)\n",
            "Requirement already satisfied: wrapt>=1.11.0 in /usr/local/lib/python3.7/dist-packages (from tensorflow) (1.14.0)\n",
            "Requirement already satisfied: flatbuffers>=1.12 in /usr/local/lib/python3.7/dist-packages (from tensorflow) (2.0)\n",
            "Requirement already satisfied: wheel<1.0,>=0.23.0 in /usr/local/lib/python3.7/dist-packages (from astunparse>=1.6.0->tensorflow) (0.37.1)\n",
            "Requirement already satisfied: cached-property in /usr/local/lib/python3.7/dist-packages (from h5py>=2.9.0->tensorflow) (1.5.2)\n",
            "Requirement already satisfied: requests<3,>=2.21.0 in /usr/local/lib/python3.7/dist-packages (from tensorboard<2.9,>=2.8->tensorflow) (2.23.0)\n",
            "Requirement already satisfied: werkzeug>=0.11.15 in /usr/local/lib/python3.7/dist-packages (from tensorboard<2.9,>=2.8->tensorflow) (1.0.1)\n",
            "Requirement already satisfied: markdown>=2.6.8 in /usr/local/lib/python3.7/dist-packages (from tensorboard<2.9,>=2.8->tensorflow) (3.3.6)\n",
            "Requirement already satisfied: tensorboard-plugin-wit>=1.6.0 in /usr/local/lib/python3.7/dist-packages (from tensorboard<2.9,>=2.8->tensorflow) (1.8.1)\n",
            "Requirement already satisfied: tensorboard-data-server<0.7.0,>=0.6.0 in /usr/local/lib/python3.7/dist-packages (from tensorboard<2.9,>=2.8->tensorflow) (0.6.1)\n",
            "Requirement already satisfied: google-auth<3,>=1.6.3 in /usr/local/lib/python3.7/dist-packages (from tensorboard<2.9,>=2.8->tensorflow) (1.35.0)\n",
            "Requirement already satisfied: google-auth-oauthlib<0.5,>=0.4.1 in /usr/local/lib/python3.7/dist-packages (from tensorboard<2.9,>=2.8->tensorflow) (0.4.6)\n",
            "Requirement already satisfied: rsa<5,>=3.1.4 in /usr/local/lib/python3.7/dist-packages (from google-auth<3,>=1.6.3->tensorboard<2.9,>=2.8->tensorflow) (4.8)\n",
            "Requirement already satisfied: pyasn1-modules>=0.2.1 in /usr/local/lib/python3.7/dist-packages (from google-auth<3,>=1.6.3->tensorboard<2.9,>=2.8->tensorflow) (0.2.8)\n",
            "Requirement already satisfied: cachetools<5.0,>=2.0.0 in /usr/local/lib/python3.7/dist-packages (from google-auth<3,>=1.6.3->tensorboard<2.9,>=2.8->tensorflow) (4.2.4)\n",
            "Requirement already satisfied: requests-oauthlib>=0.7.0 in /usr/local/lib/python3.7/dist-packages (from google-auth-oauthlib<0.5,>=0.4.1->tensorboard<2.9,>=2.8->tensorflow) (1.3.1)\n",
            "Requirement already satisfied: importlib-metadata>=4.4 in /usr/local/lib/python3.7/dist-packages (from markdown>=2.6.8->tensorboard<2.9,>=2.8->tensorflow) (4.11.3)\n",
            "Requirement already satisfied: zipp>=0.5 in /usr/local/lib/python3.7/dist-packages (from importlib-metadata>=4.4->markdown>=2.6.8->tensorboard<2.9,>=2.8->tensorflow) (3.8.0)\n",
            "Requirement already satisfied: pyasn1<0.5.0,>=0.4.6 in /usr/local/lib/python3.7/dist-packages (from pyasn1-modules>=0.2.1->google-auth<3,>=1.6.3->tensorboard<2.9,>=2.8->tensorflow) (0.4.8)\n",
            "Requirement already satisfied: idna<3,>=2.5 in /usr/local/lib/python3.7/dist-packages (from requests<3,>=2.21.0->tensorboard<2.9,>=2.8->tensorflow) (2.10)\n",
            "Requirement already satisfied: certifi>=2017.4.17 in /usr/local/lib/python3.7/dist-packages (from requests<3,>=2.21.0->tensorboard<2.9,>=2.8->tensorflow) (2021.10.8)\n",
            "Requirement already satisfied: chardet<4,>=3.0.2 in /usr/local/lib/python3.7/dist-packages (from requests<3,>=2.21.0->tensorboard<2.9,>=2.8->tensorflow) (3.0.4)\n",
            "Requirement already satisfied: urllib3!=1.25.0,!=1.25.1,<1.26,>=1.21.1 in /usr/local/lib/python3.7/dist-packages (from requests<3,>=2.21.0->tensorboard<2.9,>=2.8->tensorflow) (1.24.3)\n",
            "Requirement already satisfied: oauthlib>=3.0.0 in /usr/local/lib/python3.7/dist-packages (from requests-oauthlib>=0.7.0->google-auth-oauthlib<0.5,>=0.4.1->tensorboard<2.9,>=2.8->tensorflow) (3.2.0)\n",
            "Requirement already satisfied: scipy in /usr/local/lib/python3.7/dist-packages (from deepcut) (1.4.1)\n",
            "Requirement already satisfied: pandas in /usr/local/lib/python3.7/dist-packages (from deepcut) (1.3.5)\n",
            "Requirement already satisfied: scikit-learn in /usr/local/lib/python3.7/dist-packages (from deepcut) (1.0.2)\n",
            "Requirement already satisfied: pytz>=2017.3 in /usr/local/lib/python3.7/dist-packages (from pandas->deepcut) (2018.9)\n",
            "Requirement already satisfied: python-dateutil>=2.7.3 in /usr/local/lib/python3.7/dist-packages (from pandas->deepcut) (2.8.2)\n",
            "Requirement already satisfied: joblib>=0.11 in /usr/local/lib/python3.7/dist-packages (from scikit-learn->deepcut) (1.1.0)\n",
            "Requirement already satisfied: threadpoolctl>=2.0.0 in /usr/local/lib/python3.7/dist-packages (from scikit-learn->deepcut) (3.1.0)\n",
            "Installing collected packages: deepcut\n",
            "Successfully installed deepcut-0.7.0.0\n",
            "Requirement already satisfied: attacut in /usr/local/lib/python3.7/dist-packages (1.0.6)\n",
            "Requirement already satisfied: six>=1.12.0 in /usr/local/lib/python3.7/dist-packages (from attacut) (1.15.0)\n",
            "Requirement already satisfied: fire>=0.1.3 in /usr/local/lib/python3.7/dist-packages (from attacut) (0.4.0)\n",
            "Requirement already satisfied: torch>=1.2.0 in /usr/local/lib/python3.7/dist-packages (from attacut) (1.10.0+cu111)\n",
            "Requirement already satisfied: ssg>=0.0.4 in /usr/local/lib/python3.7/dist-packages (from attacut) (0.0.8)\n",
            "Requirement already satisfied: nptyping>=0.2.0 in /usr/local/lib/python3.7/dist-packages (from attacut) (2.0.0)\n",
            "Requirement already satisfied: pyyaml>=5.1.2 in /usr/local/lib/python3.7/dist-packages (from attacut) (6.0)\n",
            "Requirement already satisfied: docopt>=0.6.2 in /usr/local/lib/python3.7/dist-packages (from attacut) (0.6.2)\n",
            "Requirement already satisfied: numpy>=1.17.0 in /usr/local/lib/python3.7/dist-packages (from attacut) (1.21.5)\n",
            "Requirement already satisfied: termcolor in /usr/local/lib/python3.7/dist-packages (from fire>=0.1.3->attacut) (1.1.0)\n",
            "Requirement already satisfied: typing-extensions in /usr/local/lib/python3.7/dist-packages (from nptyping>=0.2.0->attacut) (4.1.1)\n",
            "Requirement already satisfied: python-crfsuite>=0.9.6 in /usr/local/lib/python3.7/dist-packages (from ssg>=0.0.4->attacut) (0.9.8)\n",
            "Requirement already satisfied: tqdm>=4.32.2 in /usr/local/lib/python3.7/dist-packages (from ssg>=0.0.4->attacut) (4.64.0)\n"
          ]
        }
      ],
      "source": [
        "!pip install pythainlp[full] \n",
        "!pip install pandas \n",
        "!pip install epitran\n",
        "!pip install sklearn_crfsuite\n",
        "!pip install tensorflow deepcut\n",
        "!pip install attacut"
      ]
    },
    {
      "cell_type": "markdown",
      "source": [
        "<h1>Tokenization"
      ],
      "metadata": {
        "id": "a-CXHcRcKq4u"
      }
    },
    {
      "cell_type": "code",
      "source": [
        "eng_text = \"Hello This is NLP \"\n",
        "\n",
        "eng_tokenized_text = eng_text.split(' ')\n",
        "print(eng_tokenized_text)"
      ],
      "metadata": {
        "colab": {
          "base_uri": "https://localhost:8080/"
        },
        "id": "iCOAtUGHKn8w",
        "outputId": "5980174c-925e-43f7-faaf-acbd5bc17b48"
      },
      "execution_count": 2,
      "outputs": [
        {
          "output_type": "stream",
          "name": "stdout",
          "text": [
            "['Hello', 'This', 'is', 'NLP', '']\n"
          ]
        }
      ]
    },
    {
      "cell_type": "code",
      "source": [
        "from pythainlp import word_tokenize\n",
        "\n",
        "text = \"สวัสดีครับ ผมกำลังยืนตากลมอยู่ท่ามกลางสายลมและชมจันทร์\"\n",
        "tokenized_text = word_tokenize(text, engine='longest')\n",
        "print(tokenized_text)"
      ],
      "metadata": {
        "colab": {
          "base_uri": "https://localhost:8080/"
        },
        "id": "GdbGS3j8K12R",
        "outputId": "99f873c2-f3a2-4a84-e41b-e8710b083da7"
      },
      "execution_count": 5,
      "outputs": [
        {
          "output_type": "stream",
          "name": "stdout",
          "text": [
            "['สวัสดี', 'ครับ', ' ', 'ผม', 'กำลัง', 'ยืน', 'ตากลม', 'อยู่', 'ท่ามกลาง', 'สายลม', 'และ', 'ชม', 'จันทร์']\n"
          ]
        }
      ]
    },
    {
      "cell_type": "code",
      "source": [
        "import pythainlp\n",
        "newmm_tokenizer = word_tokenize(text,engine=\"newmm\")\n",
        "\n",
        "icu_tokenizer = word_tokenize(text,engine=\"icu\")\n",
        "\n",
        "print(\"newmm    :\", word_tokenize(text))  \n",
        "print(\"longest  :\", word_tokenize(text, engine=\"longest\"))\n",
        "print(\"icu      :\", word_tokenize(text, engine=\"icu\"))\n",
        "print(\"deepcut  :\", word_tokenize(text, engine=\"deepcut\"))"
      ],
      "metadata": {
        "colab": {
          "base_uri": "https://localhost:8080/"
        },
        "id": "KijgkgskLJLY",
        "outputId": "06fe3428-19d0-4040-d8d3-af9044d194ce"
      },
      "execution_count": 6,
      "outputs": [
        {
          "output_type": "stream",
          "name": "stdout",
          "text": [
            "newmm    : ['สวัสดี', 'ครับ', ' ', 'ผม', 'กำลัง', 'ยืน', 'ตากลม', 'อยู่', 'ท่ามกลาง', 'สายลม', 'และ', 'ชม', 'จันทร์']\n",
            "longest  : ['สวัสดี', 'ครับ', ' ', 'ผม', 'กำลัง', 'ยืน', 'ตากลม', 'อยู่', 'ท่ามกลาง', 'สายลม', 'และ', 'ชม', 'จันทร์']\n",
            "icu      : ['สวัสดี', 'ครับ', ' ', 'ผม', 'กำลัง', 'ยืน', 'ตากลม', 'อยู่', 'ท่ามกลาง', 'สายลม', 'และ', 'ชม', 'จันทร์']\n",
            "deepcut  : ['สวัสดี', 'ครับ', ' ', 'ผม', 'กำลัง', 'ยืน', 'ตากลม', 'อยู่', 'ท่ามกลาง', 'สาย', 'ลม', 'และ', 'ชมจันทร์']\n"
          ]
        }
      ]
    },
    {
      "cell_type": "markdown",
      "source": [
        "<h1>Test Speed"
      ],
      "metadata": {
        "id": "bvz6Hh2tLapG"
      }
    },
    {
      "cell_type": "code",
      "source": [
        "%%timeit \n",
        "word_tokenize(text)"
      ],
      "metadata": {
        "colab": {
          "base_uri": "https://localhost:8080/"
        },
        "id": "YlK3rfxRLRzu",
        "outputId": "cc544567-d1b6-4875-b9a0-8b62d1de4f10"
      },
      "execution_count": 7,
      "outputs": [
        {
          "output_type": "stream",
          "name": "stdout",
          "text": [
            "10000 loops, best of 5: 165 µs per loop\n"
          ]
        }
      ]
    },
    {
      "cell_type": "code",
      "source": [
        "%%timeit\n",
        "word_tokenize(text, engine=\"longest\")"
      ],
      "metadata": {
        "colab": {
          "base_uri": "https://localhost:8080/"
        },
        "id": "xkWIP_CWLV2N",
        "outputId": "f003010e-dc62-4a57-d0c4-f8f3d342818d"
      },
      "execution_count": 8,
      "outputs": [
        {
          "output_type": "stream",
          "name": "stdout",
          "text": [
            "1000 loops, best of 5: 307 µs per loop\n"
          ]
        }
      ]
    },
    {
      "cell_type": "code",
      "source": [
        "%%timeit\n",
        "word_tokenize(text, engine=\"icu\")"
      ],
      "metadata": {
        "colab": {
          "base_uri": "https://localhost:8080/"
        },
        "id": "MhGria2cLXYl",
        "outputId": "01ec8f87-ae79-410e-986a-102aa8d0e28a"
      },
      "execution_count": 9,
      "outputs": [
        {
          "output_type": "stream",
          "name": "stdout",
          "text": [
            "The slowest run took 8.83 times longer than the fastest. This could mean that an intermediate result is being cached.\n",
            "10000 loops, best of 5: 26 µs per loop\n"
          ]
        }
      ]
    },
    {
      "cell_type": "code",
      "source": [
        "%%timeit\n",
        "word_tokenize(text,engine=\"deepcut\")"
      ],
      "metadata": {
        "colab": {
          "base_uri": "https://localhost:8080/"
        },
        "id": "78_XwgvXLY0g",
        "outputId": "7d0e7331-529a-4e7b-88d1-11fb200aaa3a"
      },
      "execution_count": 10,
      "outputs": [
        {
          "output_type": "stream",
          "name": "stdout",
          "text": [
            "10 loops, best of 5: 79.9 ms per loop\n"
          ]
        }
      ]
    },
    {
      "cell_type": "markdown",
      "source": [
        "<h1>Clean Text"
      ],
      "metadata": {
        "id": "gbDWsxSeLim-"
      }
    },
    {
      "cell_type": "code",
      "source": [
        "import re\n",
        "import string\n",
        "from pythainlp.corpus.common import thai_stopwords\n",
        "\n",
        "def clean_text(txt): \n",
        "    \n",
        "    # ลบ text ที่อยู่ในวงเล็บ <> ทั้งหมด\n",
        "    txt = re.sub(r'<.@*?!>','', txt)\n",
        "    \n",
        "    # ลบ hashtag\n",
        "    txt = re.sub(r'#','',txt)\n",
        "    \n",
        "    # ลบ เครื่องหมายคำพูด (punctuation)\n",
        "    for c in string.punctuation:\n",
        "        txt = re.sub(r'\\{}'.format(c),'',txt)\n",
        "    \n",
        "    # ลบ separator เช่น \\n \\t\n",
        "    txt = ' '.join(txt.split())\n",
        "      \n",
        "    return txt"
      ],
      "metadata": {
        "id": "r-OfVzIPLlRd"
      },
      "execution_count": 11,
      "outputs": []
    },
    {
      "cell_type": "code",
      "source": [
        "from pythainlp.corpus.common import thai_stopwords\n",
        "dirty_text = \"สวัสดีทุกๆคนครับ\\n@tungdatasci \\tวันนี้เรียนNLPสนุกดีนะ ไม่ได้หลับเลย 555\\n#zero2hero\"\n",
        "\n",
        "print(\"ข้อความที่ยังไม่ถูก   clean:\",dirty_text)\n",
        "print(\"ข้อความหลังจากที่ถูก clean:\",clean_text(dirty_text))"
      ],
      "metadata": {
        "colab": {
          "base_uri": "https://localhost:8080/"
        },
        "id": "yUCr3_B5LrCW",
        "outputId": "5a12b4c6-e1e2-453d-ed82-06425a5fa66b"
      },
      "execution_count": 12,
      "outputs": [
        {
          "output_type": "stream",
          "name": "stdout",
          "text": [
            "ข้อความที่ยังไม่ถูก   clean: สวัสดีทุกๆคนครับ\n",
            "@tungdatasci \tวันนี้เรียนNLPสนุกดีนะ ไม่ได้หลับเลย 555\n",
            "#zero2hero\n",
            "ข้อความหลังจากที่ถูก clean: สวัสดีทุกๆคนครับ tungdatasci วันนี้เรียนNLPสนุกดีนะ ไม่ได้หลับเลย 555 zero2hero\n"
          ]
        }
      ]
    },
    {
      "cell_type": "markdown",
      "source": [
        "<h1>Clear Stopword"
      ],
      "metadata": {
        "id": "tibWP_tKMO3X"
      }
    },
    {
      "cell_type": "code",
      "source": [
        "from pythainlp.corpus.common import thai_stopwords\n",
        "\n",
        "print(thai_stopwords(),\"\\n\\n\")\n",
        "def rm_stw(txt):\n",
        "  rm_stw_txt =[]\n",
        "  for i in txt:\n",
        "    if i not in thai_stopwords():\n",
        "      rm_stw_txt.append(i)\n",
        "  return rm_stw_txt\n",
        "      \n",
        "tokenized_txt = word_tokenize(clean_text(dirty_text))\n",
        "print(tokenized_txt)\n",
        "print(rm_stw(tokenized_txt))\n"
      ],
      "metadata": {
        "colab": {
          "base_uri": "https://localhost:8080/"
        },
        "id": "HWnIkkXgLwwv",
        "outputId": "f91bdf1d-a39d-428c-b084-915a4819d694"
      },
      "execution_count": 13,
      "outputs": [
        {
          "output_type": "stream",
          "name": "stdout",
          "text": [
            "frozenset({'จวบจน', 'พอเหมาะ', 'ด้วยเพราะ', 'แสดงว่า', 'ปรากฏว่า', 'กว้างขวาง', 'ส่วนด้อย', 'เถิด', 'น้อยกว่า', 'เช่นก่อน', 'เสียนี่กระไร', 'จนถึง', 'เผื่อจะ', 'เพียงไร', 'ให้ไป', 'เมื่อครั้งก่อน', 'เพื่อที่', 'มั้ย', 'ที่สุด', 'พวกกัน', 'อันไหน', 'ครั้งคราว', 'สมัยนั้น', 'หลัง', 'พอกัน', 'เป็น', 'ยิ่งจะ', 'หน่อย', 'ดังเคย', 'ช่วงนั้น', 'จนแม้น', 'มั้ยเนี่ย', 'เช่นดัง', 'ทุกสิ่ง', 'ตลอดเวลา', 'สมัย', 'กู', 'พร้อมทั้ง', 'นิด', 'จนแม้', 'เร็ว', 'จ๊ะ', 'มั้ยนั่น', 'จาก', 'ในเมื่อ', 'ก็ตามแต่', 'นี่เอง', 'เคยๆ', 'เท่าไหร่', 'ก็คือ', 'เมื่อไร', 'เหลือ', 'ครั้งครา', 'จริงๆจังๆ', 'เป็นเพราะว่า', 'ยังงั้น', 'ไม่ใช่', 'ข้า', 'พอๆ', 'ถ้าจะ', 'นอกจากว่า', 'พวกนี้', 'ความ', 'แต่ที่', 'เป็นเพราะ', 'จวนจะ', 'แต่ก็', 'แต่นั้น', 'เสียนั่น', 'ตลอดศก', 'ถึงแม้จะ', 'วันนั้น', 'ต่างหาก', 'ออก', 'บางครา', 'ส่วนใหญ่', 'อย่างไรก็', 'คราใด', 'ยิ่งใหญ่', 'ให้ดี', 'เกือบ', 'ทีๆ', 'พวกโน้น', 'เน้น', 'จำ', 'เพียงใด', 'เรื่อย', 'นอกเหนือ', 'หน', 'บัดเดี๋ยวนี้', 'เช่นที่ว่า', 'นู้น', 'อนึ่ง', 'ตลอดทั่วทั้ง', 'จำพวก', 'เขา', 'ทุกที', 'แค่จะ', 'คราวก่อน', 'สิ่ง', 'ฉัน', 'ดังกับ', 'ครา', 'ฯลฯ', 'ไกลๆ', 'ด้วยเช่นกัน', 'เช่นนั้นเอง', 'ข้างบน', 'คล้ายกันกับ', 'ไหนๆ', 'ไม่ค่อยจะ', 'กระทำ', 'แต่ถ้า', 'ทําให้', 'ขึ้น', 'ตลอดระยะเวลา', 'เสียจนกระทั่ง', 'คราว', 'เปิดเผย', 'แก้ไข', 'อย่าง', 'ทาง', 'พอตัว', 'น้อยๆ', 'ทุกอัน', 'ครบครัน', 'เป็นอันว่า', 'ทำให้', 'สูงๆ', 'ใหญ่โต', 'ใคร', 'ง่ายๆ', 'ทีใด', 'เริ่ม', 'ยก', 'พวกฉัน', 'เป็นอาทิ', 'ทำไร', 'ง่าย', 'บอกว่า', 'คล้ายว่า', 'กันไหม', 'เมื่อนี้', 'นั่น', 'เพียง', 'อยาก', 'เนื่องจาก', 'เท่ากัน', 'ดั่ง', 'ตลอดวัน', 'เสียนี่', 'ทุกชิ้น', 'ก็แค่', 'ยืนนาน', 'แม้ว่า', 'ด้วย', 'พอดี', 'ราย', 'ครั้งหลังสุด', 'อย่างนั้น', 'คงอยู่', 'วันนี้', 'ข้างต้น', 'เพิ่ม', 'ยอมรับ', 'นับจากนี้', 'ฉะนั้น', 'ภายภาคหน้า', 'บ่อยกว่า', 'สั้น', 'เห็นจะ', 'ทว่า', 'เยอะแยะ', 'คุณ', 'แต่อย่างใด', 'กระผม', 'ถึงอย่างไร', 'นับจากนั้น', 'กว้างๆ', 'ทรง', 'ส่วนที่', 'อย่างใด', 'พบ', 'ดัง', 'ตั้งแต่', 'ภายหลัง', 'ก็แล้วแต่', 'มุ่งเน้น', 'อย่างนี้', 'แห่งนี้', 'ไร', 'พอเพียง', 'มากมาย', 'ขวางๆ', 'เพียงไหน', 'แต่ทว่า', 'ช่วงหลัง', 'ทันใดนั้น', 'จนตลอด', 'เสียจนถึง', 'เท่า', 'เสียด้วย', 'พยายาม', 'พวกมัน', 'ช่วงนี้', 'เช่นกัน', 'ให้แด่', 'ถ้าหาก', 'ประมาณ', 'ทุกวัน', 'เหตุ', 'นี่', 'อัน', 'ใต้', 'เสร็จสิ้น', 'กว้าง', 'ภายใต้', 'เช่นนี้', 'คราวนั้น', 'ตามแต่', 'พอจะ', 'เท่าที่', 'ซึ่งได้แก่', 'ไว้', 'ก็', 'ด้วยกัน', 'เกือบจะ', 'ไป่', 'ถึงบัดนี้', 'หรือไง', 'บางแห่ง', 'อันที่จริง', 'รวมๆ', 'ไกล', 'กันดีไหม', 'นับตั้งแต่', 'ก็ตาม', 'ด้วยเหตุเพราะ', 'ข้าง', 'พึ่ง', 'เสร็จสมบูรณ์', 'เท่าไร', 'จะได้', 'โตๆ', 'อย่างเดียว', 'พวกแก', 'มึง', 'เพิ่ง', 'สืบเนื่อง', 'คะ', 'ผล', 'แค่', 'ค่ะ', 'ถึงบัดนั้น', 'แห่งใด', 'พื้นๆ', 'เห็นว่า', 'ยังไง', 'แต่ก่อน', 'คงจะ', 'ผู้ใด', 'ขณะที่', 'นั่นเอง', 'เปลี่ยน', 'เปิด', 'มันๆ', 'เพิ่มเติม', 'ทุกเมื่อ', 'น่า', 'ยัง', 'แม้นว่า', 'ช่วย', 'ดังเก่า', 'จง', 'ครบถ้วน', 'ใช้', 'ข้างๆ', 'ที่แท้', 'จากนั้น', 'แต่ละ', 'นะ', 'กันดีกว่า', 'ซะจนถึง', 'แก', 'มิฉะนั้น', 'แม้กระทั่ง', 'ทุก', 'จ๋า', 'คิดว่า', 'นอกจากนั้น', 'ส่วนมาก', 'การ', 'เล็กๆ', 'เช่นที่เคย', 'นอก', 'ก็ดี', 'เกิน', 'ค่อนข้างจะ', 'กลุ่ม', 'ตรงๆ', 'เดียวกัน', 'แยะ', 'เป็นที่สุด', 'ตลอด', 'แยะๆ', 'ยาว', 'ช่วงต่อไป', 'ภายใน', 'เช่นใด', 'แม้', 'เห็นควร', 'แค่นี้', 'ทั้งมวล', 'กล่าว', 'ช่วงที่', 'ครั้ง', 'ทัน', 'มีแต่', 'ช่วงหน้า', 'ส่วนนั้น', 'น้อย', 'อันใด', 'ยิ่งเมื่อ', 'นาน', 'นี่นา', 'จัดแจง', 'ทั้งนั้น', 'รือ', 'เสียก่อน', 'จด', 'รับรอง', 'ตนเอง', 'เช่นดังเก่า', 'ได้ที่', 'นับ', 'หรือเปล่า', 'จะ', 'ยังโง้น', 'จัด', 'คราหนึ่ง', 'รับ', 'ส่วนเกิน', 'เป็นแต่เพียง', 'จน', 'เพราะ', 'พวกคุณ', 'ที่แท้จริง', 'จัดให้', 'จนกว่า', 'เถอะ', 'ข้างล่าง', 'ดังกล่าว', 'แค่ไหน', 'จัดตั้ง', 'เช่นที่', 'มากกว่า', 'ทั้งที', 'คง', 'ในช่วง', 'ตลอดถึง', 'รวมด้วย', 'สมัยโน้น', 'บางขณะ', 'ปรับ', 'ยังคง', 'อย่างไรก็ได้', 'ไม่ค่อยเป็น', 'จึง', 'เป็นต้นมา', 'ขาด', 'เต็มๆ', 'นาย', 'กลุ่มๆ', 'ให้', 'จนทั่ว', 'หมด', 'ใน', 'ผ่าน', 'ใหญ่', 'ใหม่', 'อันที่', 'แต่ว่า', 'นี่แน่ะ', 'เสร็จกัน', 'อย่างเช่น', 'ซะจน', 'เมื่อเย็น', 'บ่อยๆ', 'หลังจาก', 'คล้าย', 'วันไหน', 'ประการหนึ่ง', 'กลุ่มก้อน', 'คราวโน้น', 'ที่นั้น', 'ทั้งนี้', 'เท่าใด', 'ที่ไหน', 'คราวหลัง', 'ช้าๆ', 'ต่าง', 'ตลอดมา', 'มุ่ง', 'ซึ่งก็', 'เสียยิ่งนัก', 'อันจะ', 'รึ', 'ช่วงๆ', 'แค่นั้น', 'ที่แห่งนั้น', 'ทุกตัว', 'คราวใด', 'ด้วยเหตุที่', 'รือว่า', 'จวน', 'แต่ต้อง', 'เล็กน้อย', 'เสมือนกับ', 'ในระหว่าง', 'จนขณะนี้', 'นอกจาก', 'เปลี่ยนแปลง', 'สําหรับ', 'นอกจากนี้', 'เพราะฉะนั้น', 'ช้า', 'จวบกับ', 'เพื่อ', 'เรียก', 'สิ้น', 'มักจะ', 'คิด', 'ของ', 'เก็บ', 'แล้ว', 'ดั่งกับ', 'ที่ว่า', 'ซึ่งก็คือ', 'คราวไหน', 'เต็มไปด้วย', 'อาจ', 'อดีต', 'ยกให้', 'ส่วนดี', 'นี่แหละ', 'อันๆ', 'กล่าวคือ', 'ช่วงถัดไป', 'แล้วแต่', 'นานๆ', 'ฉะนี้', 'ถึงจะ', 'อาจจะ', 'เช่นดังที่', 'ทุกแห่ง', 'ซึ่งกันและกัน', 'อื่นๆ', 'หรือ', 'แต่เดิม', 'ถูก', 'เช่นเมื่อ', 'ทํา', 'เฉกเช่น', 'เท่ากับ', 'เป็นเพียงว่า', 'ได้แก่', 'พร้อมที่', 'ล้วน', 'เมื่อวันวาน', 'คราวนี้', 'ปฏิบัติ', 'เชื่อ', 'ให้แก่', 'นู่น', 'คราวหนึ่ง', 'นอกจากที่', 'ฯ', 'บัดนั้น', 'ผ่านๆ', 'เหล่านั้น', 'แห่งไหน', 'ต่อ', 'ร่วมกัน', 'ถึงแม้ว่า', 'ทั้งตัว', 'ถูกต้อง', 'ทุกครั้ง', 'เมื่อครั้ง', 'เฉยๆ', 'ภายนอก', 'ครั้งละ', 'ไฉน', 'คราวที่', 'เสียแล้ว', 'ขณะเดียวกัน', 'หาใช่', 'มั้ยล่ะ', 'จรดกับ', 'ๆ', 'เยอะๆ', 'นี้เอง', 'ที', 'ใหม่ๆ', 'ประการใด', 'ช่วงท้าย', 'ด้วยเหมือนกัน', 'จ้ะ', 'พบว่า', 'คล้ายกับ', 'เธอ', 'ที่ได้', 'สุดๆ', 'อยู่', 'ล้วนแต่', 'สามารถ', 'บางครั้ง', 'ฝ่ายใด', 'ที่ใด', 'ผู้', 'ส่วนน้อย', 'เป็นการ', 'กำลังจะ', 'ตลอดไป', 'เช่นไร', 'อันละ', 'เกี่ยวข้อง', 'ระหว่าง', 'ตลอดทั้ง', 'ใดๆ', 'อย่างๆ', 'ตามๆ', 'ส่วน', 'สุด', 'ระยะ', 'พร้อมกับ', 'แต่', 'เกือบๆ', 'นัก', 'พร้อมกัน', 'เพียงเพื่อ', 'ส่ง', 'แท้จริง', 'นั้น', 'มัก', 'เสร็จ', 'สิ่งนั้น', 'อย่างหนึ่ง', 'พอ', 'ทั้งหมด', 'ยังจะ', '\\ufeffๆ', 'จำเป็น', 'เมื่อวาน', 'พวกนั้น', 'เดียว', 'รวด', 'จวบ', 'กลับ', 'ทั้งเป็น', 'ทำไม', 'มอง', 'มิได้', 'แบบ', 'แม้แต่', 'อาจเป็น', 'ต่างก็', 'ครั้งที่', 'เช่นเดียวกับ', 'แต่เมื่อ', 'จู่ๆ', 'เมื่อคราว', 'หากแม้', 'ขอ', 'ทุกคน', 'มัน', 'ใช่ไหม', 'ได้', 'เหตุนั้น', 'พร้อม', 'กันเถอะ', 'ตน', 'เป็นๆ', 'ข้าฯ', 'รวม', 'และ', 'เป็นที', 'ใคร่จะ', 'ทีละ', 'เกิด', 'หนึ่ง', 'เขียน', 'ทั้งนั้นเพราะ', 'ยิ่ง', 'ประกอบ', 'ครั้งกระนั้น', 'ด้าน', 'มา', 'จ้า', 'ก่อนหน้า', 'แต่ไร', 'ดั่งกับว่า', 'เช่นดังว่า', 'คราวละ', 'ตาม', 'เพียงแต่', 'เป็นต้นไป', 'ตลอดจน', 'บ่อยครั้ง', 'เล่าว่า', 'เมื่อไหร่', 'เป็นต้น', 'มั้ยนะ', 'พวกนู้น', 'มั๊ย', 'กันนะ', 'เช่น', 'รวมถึง', 'คราวหน้า', 'ในที่', 'ยิ่งกว่า', 'เมื่อ', 'ช่วงก่อน', 'ประการฉะนี้', 'สมัยนี้', 'แรก', 'ทันที', 'นำมา', 'เพื่อให้', 'เมื่อคราวที่', 'นอกเหนือจาก', 'เช่นเดียวกัน', 'ได้แต่', 'เสร็จแล้ว', 'กำหนด', 'ร่วม', 'สู่', 'ฝ่าย', 'มิใช่', 'จริง', 'ยอม', 'ใหญ่ๆ', 'นิดๆ', 'เช่นเคย', 'มาก', 'ช่วงแรก', 'กันเอง', 'พวก', 'อย่างน้อย', 'ไม่เป็นไร', 'ซะจนกระทั่ง', 'ครับ', 'หากว่า', 'เฉย', 'กัน', 'หรือไม่', 'ถือ', 'พอควร', 'บอก', 'แก่', 'จัดงาน', 'บัดดล', 'ทุกที่', 'นั่นไง', 'หมดสิ้น', 'หากแม้นว่า', 'อาจเป็นด้วย', 'คล้ายกับว่า', 'นี้', 'ค่อย', 'พวกเธอ', 'ผิดๆ', 'หากแม้น', 'ยืนยัน', 'เป็นที่', 'ยิ่งขึ้น', 'ทั้งที่', 'แล้วเสร็จ', 'เป็นด้วย', 'ที่ๆ', 'ซึ่งกัน', 'ภาย', 'เห็นแก่', 'จนบัดนี้', 'เช่นดังก่อน', 'จังๆ', 'บัดนี้', 'ยังงี้', 'ไม่ค่อย', 'ตามที่', 'ขั้น', 'ค่อยๆ', 'รึว่า', 'ขณะนั้น', 'เป็นดัง', 'นับแต่ที่', 'เมื่อคราวก่อน', 'สิ่งใด', 'นาง', 'เข้าใจ', 'ทั้งสิ้น', 'คราไหน', 'ไหน', 'ขณะนี้', 'ย่อม', 'มองว่า', 'ทั้งคน', 'บอกแล้ว', 'ขณะใดๆ', 'พูด', 'ยังแต่', 'เพื่อว่า', 'ครั้งนั้น', 'ครานั้น', 'ทั้งปวง', 'เลย', 'ครบ', 'ปิด', 'วัน', 'ช่วง', 'แสดง', 'ร่วมด้วย', 'ขณะ', 'เหลือเกิน', 'ถึงเมื่อใด', 'ช่วงระหว่าง', 'เคย', 'ภาคฯ', 'ด้วยว่า', 'รวดเร็ว', 'หารือ', 'น่ะ', 'แท้', 'เต็มไปหมด', 'แห่ง', 'พวกท่าน', 'คุณๆ', 'ซะ', 'ทีเดียว', 'เหล่า', 'สูง', 'ใช่', 'มุ่งหมาย', 'นำพา', 'พอสม', 'ด้วยเหตุนี้', 'ครั้งนี้', 'นั้นๆ', 'เสียนั่นเอง', 'ค่อยไปทาง', 'ข้าพเจ้า', 'ขณะใด', 'รวมทั้ง', 'พอที', 'เฉพาะ', 'ประการ', 'อย่างโน้น', 'เยอะ', 'ตลอดทั่ว', 'อันเนื่องมาจาก', 'อันได้แก่', 'ตลอดปี', 'สบาย', 'เกี่ยวๆ', 'ด้วยที่', 'สูงสุด', 'ถึงเมื่อไร', 'ตามด้วย', 'ต่อกัน', 'เผื่อว่า', 'ช้านาน', 'หรือไร', 'เอง', 'ยิ่งแล้ว', 'พร้อมด้วย', 'ควร', 'แต่ไหน', 'อะไร', 'จึงเป็น', 'ที่ซึ่ง', 'ที่นี้', 'จัง', 'ซึ่งๆ', 'เนี่ยเอง', 'พวกกู', 'ประสบ', 'เล็ก', 'เห็น', 'ใครๆ', 'ค่อน', 'ก็ตามที', 'อย่างดี', 'เรื่อยๆ', 'จากนี้ไป', 'พา', 'เพราะว่า', 'ถึงเมื่อ', 'ขณะหนึ่ง', 'ถึงแก่', 'พวกที่', 'เป็นแต่', 'ตลอดกาลนาน', 'ลง', 'แต่จะ', 'ล้วนจน', 'ทั้ง', 'นับแต่', 'คือ', 'พอแล้ว', 'กันและกัน', 'ยิ่งขึ้นไป', 'ก็ต่อเมื่อ', 'ใคร่', 'ทุกหน', 'ทุกทาง', 'คราที่', 'หมดกัน', 'ค่อนข้าง', 'ดั่งเคย', 'จึงจะ', 'ถูกๆ', 'บางที่', 'สูงกว่า', 'ครั้งหลัง', 'ทันทีทันใด', 'บน', 'ซะก่อน', 'ซึ่ง', 'จากนี้', 'เกี่ยวเนื่อง', 'เพียงเพราะ', 'ครั้งหนึ่ง', 'คล้ายกัน', 'ทีเถอะ', 'ให้มา', 'นั้นไว', 'อย่างมาก', 'เรา', 'นั่นเป็น', 'เป็นเพียง', 'พึง', 'เมื่อเช้า', 'จนกระทั่ง', 'ต้อง', 'นับแต่นี้', 'เชื่อถือ', 'ปรากฏ', 'สำคัญ', 'เป็นอันๆ', 'ทุกอย่าง', 'ต่างๆ', 'เหล่านี้', 'คราวๆ', 'แค่เพียง', 'ผิด', 'ย่อย', 'บางคราว', 'เป็นเพื่อ', 'ปัจจุบัน', 'ขวาง', 'เอ็ง', 'เสีย', 'เหตุผล', 'หนอ', 'ทั้งๆ', 'ถึงแม้', 'ทำๆ', 'ภายหน้า', 'อย่างไหน', 'ทุกวันนี้', 'ตลอดทั่วถึง', 'สมัยก่อน', 'นักๆ', 'สูงส่ง', 'สั้นๆ', 'แห่งโน้น', 'เกี่ยวกัน', 'ยิ่งนัก', 'นี่ไง', 'เผื่อ', 'ระยะๆ', 'พร้อมเพียง', 'ส่วนใด', 'คำ', 'เข้า', 'อย่างละ', 'ยืนยง', 'อย่างที่', 'ยิ่งจน', 'เหตุนี้', 'ก็ได้', 'กระทั่ง', 'แค่ว่า', 'บ่อย', 'กับ', 'ทั้งหลาย', 'จับ', 'ว่า', 'บาง', 'จวนเจียน', 'ที่แล้ว', 'ทั้งนั้นด้วย', 'อีก', 'ครั้งๆ', 'พวกมึง', 'สิ่งไหน', 'ครั้งก่อน', 'ข้างเคียง', 'นํา', 'จนเมื่อ', 'ยาวนาน', 'ด้วยเหตุว่า', 'ดังกับว่า', 'เนี่ย', 'ทั่ว', 'ด้วยเหตุนั้น', 'ที่', 'ยาก', 'เสมือนว่า', 'เมื่อคืน', 'นิดหน่อย', 'ก็จะ', 'ครานี้', 'จรด', 'บ้าง', 'บางๆ', 'บางที', 'ล่าสุด', 'ที่จริง', 'ทีไร', 'เท่านี้', 'ทุกๆ', 'หลาย', 'ภาค', 'รวมกัน', 'หรือยัง', 'เกี่ยวกับ', 'อย่างไรเสีย', 'ด้วยประการฉะนี้', 'ก่อนหน้านี้', 'มิ', 'ณ', 'กระนั้น', 'เพื่อที่จะ', 'เมื่อก่อน', 'อื่น', 'น่าจะ', 'เร็วๆ', 'จัดการ', 'ครั้งไหน', 'ภายภาค', 'แหละ', 'ครัน', 'จัดทำ', 'ที่ละ', 'แล้วกัน', 'เมื่อนั้น', 'นับแต่นั้น', 'บางกว่า', 'เรียบ', 'จริงๆ', 'ตลอดกาล', 'นำ', 'นั่นแหละ', 'ไง', 'ละ', 'นี้แหล่', 'ไม่ว่า', 'เมื่อใด', 'ฯล', 'ตรง', 'ยืนยาว', 'เชื่อว่า', 'สิ้นกาลนาน', 'หนอย', 'โต', 'กำลัง', 'เช่นนั้น', 'เสียยิ่ง', 'ไป', 'ถือว่า', 'พอสมควร', 'เท่านั้น', 'นอกนั้น', 'เป็นอันมาก', 'เหตุไร', 'ไม่', 'หาความ', 'ชาว', 'มี', 'ถึง', 'เป็นอัน', 'ร่วมมือ', 'พวกเขา', 'สิ่งนี้', 'แต่เพียง', 'ก่อนๆ', 'โดย', 'เชื่อมั่น', 'ใกล้', 'จริงจัง', 'เอา', 'ใกล้ๆ', 'กว่า', 'ทุกครา', 'นางสาว', 'เกินๆ', 'ได้รับ', 'ครั้งใด', 'พอที่', 'ตั้ง', 'ทุกคราว', 'อันที่จะ', 'อย่างยิ่ง', 'ถ้า', 'เราๆ', 'ตนฯ', 'เพิ่งจะ', 'หาก', 'ดั่งเก่า', 'เผื่อที่', 'จัดหา', 'เพียงแค่', 'ค่อนมาทาง', 'อย่างไร', 'ได้มา', 'เพียงพอ', 'เสียจน', 'ก่อน', 'วันใด', 'แห่งนั้น'}) \n",
            "\n",
            "\n",
            "['สวัสดี', 'ทุกๆ', 'คน', 'ครับ', ' ', 'tungdatasci', ' ', 'วันนี้', 'เรียน', 'NLP', 'สนุก', 'ดี', 'นะ', ' ', 'ไม่', 'ได้', 'หลับ', 'เลย', ' ', '555', ' ', 'zero', '2', 'hero']\n",
            "['สวัสดี', 'คน', ' ', 'tungdatasci', ' ', 'เรียน', 'NLP', 'สนุก', 'ดี', ' ', 'หลับ', ' ', '555', ' ', 'zero', '2', 'hero']\n"
          ]
        }
      ]
    },
    {
      "cell_type": "markdown",
      "source": [
        "<h1>Text Normalization"
      ],
      "metadata": {
        "id": "Wp2aU9l9Mbyf"
      }
    },
    {
      "cell_type": "code",
      "source": [
        "import re\n",
        "tm_text = \" ติดต่อเพิ่มเติมได้ที่เบอร์โทร 081-811-8772 หรือ  082-753-5025\"\n",
        "print(\"newmm    :\", word_tokenize(tm_text))  \n",
        "\n",
        "tm_text_replace = tm_text.replace('-','')\n",
        "print(\"newmm    :\", word_tokenize(tm_text_replace))  \n",
        "\n",
        "for i in re.findall(r\"[\\d]{3}-[\\d]{3}-[\\d]{4}\", tm_text):\n",
        "  tm_text = tm_text.replace(i,'phone')\n",
        "print(\"newmm    :\", word_tokenize(tm_text)) "
      ],
      "metadata": {
        "colab": {
          "base_uri": "https://localhost:8080/"
        },
        "id": "_5r5AOF6MUzb",
        "outputId": "a64e528a-65a1-4fa3-ed5b-78fe1d36589e"
      },
      "execution_count": 14,
      "outputs": [
        {
          "output_type": "stream",
          "name": "stdout",
          "text": [
            "newmm    : [' ', 'ติดต่อ', 'เพิ่มเติม', 'ได้ที่', 'เบอร์', 'โทร', ' ', '081', '-', '811', '-', '8772', ' ', 'หรือ', '  ', '082', '-', '753', '-', '5025']\n",
            "newmm    : [' ', 'ติดต่อ', 'เพิ่มเติม', 'ได้ที่', 'เบอร์', 'โทร', ' ', '0818118772', ' ', 'หรือ', '  ', '0827535025']\n",
            "newmm    : [' ', 'ติดต่อ', 'เพิ่มเติม', 'ได้ที่', 'เบอร์', 'โทร', ' ', 'phone', ' ', 'หรือ', '  ', 'phone']\n"
          ]
        }
      ]
    },
    {
      "cell_type": "code",
      "source": [
        "import re\n",
        "\n",
        "from pythainlp import thai_tonemarks\n",
        "\n",
        "_NORMALIZE_RULE1 = [\n",
        "    \"ะ\",\n",
        "    \"ั\",\n",
        "    \"็\",\n",
        "    \"า\",\n",
        "    \"ิ\",\n",
        "    \"ี\",\n",
        "    \"ึ\",\n",
        "    \"่\",\n",
        "    \"ํ\",\n",
        "    \"ุ\",\n",
        "    \"ู\",\n",
        "    \"ใ\",\n",
        "    \"ไ\",\n",
        "    \"โ\",\n",
        "    \"ื\",\n",
        "    \"่\",\n",
        "    \"้\",\n",
        "    \"๋\",\n",
        "    \"๊\",\n",
        "    \"ึ\",\n",
        "    \"์\",\n",
        "    \"๋\",\n",
        "    \"ำ\",\n",
        "]  # เก็บพวกสระ วรรณยุกต์ที่ซ้ำกันแล้วมีปัญหา\n",
        "\n",
        "\n",
        "_NORMALIZE_RULE2 = [\n",
        "    (\"เเ\", \"แ\"),  # เ เ -> แ\n",
        "    (\"ํ(t)า\", \"\\\\1ำ\"),\n",
        "    (\"ํา(t)\", \"\\\\1ำ\"),\n",
        "    (\"([่-๋])([ัิ-ื])\", \"\\\\2\\\\1\"),\n",
        "    (\"([่-๋])([ูุ])\", \"\\\\2\\\\1\"),\n",
        "    (\"ำ([่-๋])\", \"\\\\1ำ\"),\n",
        "    (\"(์)([ัิ-ู])\", \"\\\\2\\\\1\"),\n",
        "]  # เก็บพวก พิมพ์ลำดับผิดหรือผิดแป้นแต่กลับแสดงผลถูกต้อง ให้ไปเป็นแป้นที่ถูกต้อง เช่น เ + เ ไปเป็น แ\n",
        "\n",
        "\n",
        "\n",
        "def normalize(text: str) -> str:\n",
        "    \"\"\"\n",
        "    Thai text normalize\n",
        "\n",
        "    :param str text: thai text\n",
        "    :return: thai text\n",
        "    **Example**::\n",
        "     >>> print(normalize(\"เเปลก\")==\"แปลก\") # เ เ ป ล ก กับ แปลก\n",
        "     True\n",
        "    \"\"\"\n",
        "    for data in _NORMALIZE_RULE2:\n",
        "        text = re.sub(data[0].replace(\"t\", \"[่้๊๋]\"), data[1], text)\n",
        "    for data in list(zip(_NORMALIZE_RULE1, _NORMALIZE_RULE1)):\n",
        "        text = re.sub(data[0].replace(\"t\", \"[่้๊๋]\") + \"+\", data[1], text)\n",
        "    return text"
      ],
      "metadata": {
        "id": "nIY5wci4Mr7d"
      },
      "execution_count": 15,
      "outputs": []
    },
    {
      "cell_type": "code",
      "source": [
        "unnormalized_text = \"วันนี้มีความสุขมากค่าาาาา ได้กินของอร่อยๆ เยอะเลย ค่ะะะ\"\n",
        "\n",
        "print( normalize(unnormalized_text))"
      ],
      "metadata": {
        "colab": {
          "base_uri": "https://localhost:8080/"
        },
        "id": "ug_n85ZEM2UG",
        "outputId": "423df59f-7d68-494a-c19d-c0946dc89af0"
      },
      "execution_count": 18,
      "outputs": [
        {
          "output_type": "stream",
          "name": "stdout",
          "text": [
            "วันนี้มีความสุขมากค่า ได้กินของอร่อยๆ เยอะเลย ค่ะ\n"
          ]
        }
      ]
    },
    {
      "cell_type": "markdown",
      "source": [
        "<h1>Spelling correction"
      ],
      "metadata": {
        "id": "S47nYj0xNLYV"
      }
    },
    {
      "cell_type": "code",
      "source": [
        "misspell_text = 'ธนคาร'\n",
        "\n",
        "print(pythainlp.spell(misspell_text))\n",
        "print(pythainlp.correct(misspell_text))"
      ],
      "metadata": {
        "id": "3lh1AzPjNCyf"
      },
      "execution_count": null,
      "outputs": []
    }
  ]
}